{
  "nbformat": 4,
  "nbformat_minor": 0,
  "metadata": {
    "colab": {
      "provenance": []
    },
    "kernelspec": {
      "name": "python3",
      "display_name": "Python 3"
    },
    "language_info": {
      "name": "python"
    }
  },
  "cells": [
    {
      "cell_type": "code",
      "execution_count": 1,
      "metadata": {
        "id": "m03AY8204ZV0"
      },
      "outputs": [],
      "source": [
        "# Import the 're' module for regular expression operations\n",
        "import re"
      ]
    },
    {
      "cell_type": "markdown",
      "source": [
        "**1. Extract all twitter handles from following text. Twitter handle is the text that appears after https://twitter.com/ and is a single word. Also it contains only alpha numeric characters i.e. A-Z a-z , o to 9 and underscore_**"
      ],
      "metadata": {
        "id": "dZXFNSSU4kWm"
      }
    },
    {
      "cell_type": "code",
      "source": [
        "# Define the text string containing various URLs, including Twitter links\n",
        "text = '''\n",
        "Follow our leader Elon musk on twitter here: https://twitter.com/elonmusk, more information\n",
        "on Tesla's products can be found at https://www.tesla.com/. Also here are leading influencers\n",
        "for tesla related news,\n",
        "https://twitter.com/teslarati\n",
        "https://twitter.com/dummy_tesla\n",
        "https://twitter.com/dummy_2_tesla\n",
        "'''\n",
        "\n",
        "# Define a regular expression pattern to match Twitter URLs and capture the username\n",
        "# - 'https://twitter\\.com/': Match the literal string \"https://twitter.com/\"\n",
        "#     - The dot is escaped as '\\.' because in regex, a plain dot matches any character.\n",
        "# - '([a-zA-Z0-9_]+)': Capture one or more alphanumeric characters or underscores (the Twitter username)\n",
        "pattern = 'https://twitter\\.com/([a-zA-Z0-9_]+)'\n",
        "\n",
        "# Use re.findall() to find all matches of the pattern (Twitter usernames) in the text\n",
        "# The result will be a list of Twitter usernames from the URLs in the text\n",
        "re.findall(pattern, text)"
      ],
      "metadata": {
        "colab": {
          "base_uri": "https://localhost:8080/"
        },
        "id": "1F8Nc4Pn4yZF",
        "outputId": "2d497d0d-53f6-4b9e-a5e9-2a7609912fa3"
      },
      "execution_count": 2,
      "outputs": [
        {
          "output_type": "execute_result",
          "data": {
            "text/plain": [
              "['elonmusk', 'teslarati', 'dummy_tesla', 'dummy_2_tesla']"
            ]
          },
          "metadata": {},
          "execution_count": 2
        }
      ]
    },
    {
      "cell_type": "markdown",
      "source": [
        "**2. Extract Concentration Risk Types. It will be a text that appears after \"Concentration Risk:\", In below example, your regex should extract these two strings**\n",
        "\n",
        "(1) Credit Risk\n",
        "\n",
        "(2) Supply Risk"
      ],
      "metadata": {
        "id": "xTGVwF7D5G_F"
      }
    },
    {
      "cell_type": "code",
      "source": [
        "# Define the text string containing information on risk concentrations, including credit risk and supply risk\n",
        "text = '''\n",
        "Concentration of Risk: Credit Risk\n",
        "Financial instruments that potentially subject us to a concentration of credit risk consist of cash, cash equivalents, marketable securities,\n",
        "restricted cash, accounts receivable, convertible note hedges, and interest rate swaps. Our cash balances are primarily invested in money market funds\n",
        "or on deposit at high credit quality financial institutions in the U.S. These deposits are typically in excess of insured limits. As of September 30, 2021\n",
        "and December 31, 2020, no entity represented 10% or more of our total accounts receivable balance. The risk of concentration for our convertible note\n",
        "hedges and interest rate swaps is mitigated by transacting with several highly-rated multinational banks.\n",
        "Concentration of Risk: Supply Risk\n",
        "We are dependent on our suppliers, including single source suppliers, and the inability of these suppliers to deliver necessary components of our\n",
        "products in a timely manner at prices, quality levels and volumes acceptable to us, or our inability to efficiently manage these components from these\n",
        "suppliers, could have a material adverse effect on our business, prospects, financial condition and operating results.\n",
        "'''\n",
        "\n",
        "# Define a regular expression pattern to capture the risk categories (such as \"Credit Risk\" and \"Supply Risk\")\n",
        "# - 'Concentration of Risk: ': Match the literal string \"Concentration of Risk: \"\n",
        "# - '([^\\n]*)': Capture any sequence of characters except for a newline ('\\n'), which represents the risk category\n",
        "# This pattern is designed to extract the risk category names following \"Concentration of Risk:\"\n",
        "pattern = 'Concentration of Risk: ([^\\n]*)'\n",
        "\n",
        "# Use re.findall() to find all matches of the pattern in the text\n",
        "# The result will be a list containing the different types of risk mentioned (e.g., \"Credit Risk\", \"Supply Risk\")\n",
        "re.findall(pattern, text)"
      ],
      "metadata": {
        "colab": {
          "base_uri": "https://localhost:8080/"
        },
        "id": "_OEgTZnq5PEk",
        "outputId": "1c680a69-7c43-4477-c63f-1380a5cd4070"
      },
      "execution_count": 3,
      "outputs": [
        {
          "output_type": "execute_result",
          "data": {
            "text/plain": [
              "['Credit Risk', 'Supply Risk']"
            ]
          },
          "metadata": {},
          "execution_count": 3
        }
      ]
    },
    {
      "cell_type": "markdown",
      "source": [
        "**3. Companies in europe reports their financial numbers of semi annual basis and you can have a document like this. To exatract quarterly and semin annual period you can use a regex as shown below**\n",
        "\n",
        "Hint: you need to use (?:) here to match everything enclosed"
      ],
      "metadata": {
        "id": "II0P8m3F5Vcc"
      }
    },
    {
      "cell_type": "code",
      "source": [
        "# Define the text string containing information about the gross cost of operating lease vehicles for Tesla and BMW\n",
        "text = '''\n",
        "Tesla's gross cost of operating lease vehicles in FY2021 Q1 was $4.85 billion.\n",
        "BMW's gross cost of operating vehicles in FY2021 S1 was $8 billion.\n",
        "'''\n",
        "\n",
        "# Define a regular expression pattern to match fiscal year (FY) information with a quarter or semi-annual designation\n",
        "# Explanation of the pattern:\n",
        "# - 'FY': Match the literal string \"FY\" representing fiscal year\n",
        "# - '(\\d{4}': Capture exactly four digits (the year, e.g., \"2021\")\n",
        "# - ' (': Match a space after the year\n",
        "# - '(?:Q[1-4]|S[1-2])': A non-capturing group to match either:\n",
        "#     - 'Q[1-4]': Any quarter (Q1, Q2, Q3, or Q4)\n",
        "#     - 'S[1-2]': Or any semi-annual period (S1 or S2)\n",
        "# - ')': Close the non-capturing group\n",
        "# This pattern is designed to extract the fiscal year followed by either a quarter (Q1-Q4) or semi-annual period (S1-S2)\n",
        "pattern = 'FY(\\d{4} (?:Q[1-4]|S[1-2]))'\n",
        "\n",
        "# Use re.findall() to find all matches of the pattern in the text\n",
        "# The result will be a list of fiscal year and period designations (e.g., \"2021 Q1\", \"2021 S1\")\n",
        "re.findall(pattern, text)"
      ],
      "metadata": {
        "colab": {
          "base_uri": "https://localhost:8080/"
        },
        "id": "8w_RIPiK5a8M",
        "outputId": "153a9e40-1a87-4835-c310-ef8a8c4f2b2e"
      },
      "execution_count": 4,
      "outputs": [
        {
          "output_type": "execute_result",
          "data": {
            "text/plain": [
              "['2021 Q1', '2021 S1']"
            ]
          },
          "metadata": {},
          "execution_count": 4
        }
      ]
    }
  ]
}