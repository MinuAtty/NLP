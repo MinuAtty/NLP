{
  "nbformat": 4,
  "nbformat_minor": 0,
  "metadata": {
    "colab": {
      "provenance": []
    },
    "kernelspec": {
      "name": "python3",
      "display_name": "Python 3"
    },
    "language_info": {
      "name": "python"
    }
  },
  "cells": [
    {
      "cell_type": "markdown",
      "source": [
        "## Collecting email of students from students information sheet to send a particular email to all these students which I have mention in the text document."
      ],
      "metadata": {
        "id": "CuLrThC-PvuT"
      }
    },
    {
      "cell_type": "code",
      "source": [
        "from google.colab import drive  # For accessing files in Google Drive\n",
        "\n",
        "# Mount Google Drive to access files stored in it\n",
        "drive.mount('/content/drive')"
      ],
      "metadata": {
        "colab": {
          "base_uri": "https://localhost:8080/"
        },
        "id": "RRa4oLqYPS7L",
        "outputId": "b8253e26-b91a-4335-badb-6277434d51bd"
      },
      "execution_count": 1,
      "outputs": [
        {
          "output_type": "stream",
          "name": "stdout",
          "text": [
            "Drive already mounted at /content/drive; to attempt to forcibly remount, call drive.mount(\"/content/drive\", force_remount=True).\n"
          ]
        }
      ]
    },
    {
      "cell_type": "markdown",
      "source": [
        "- Step 1: Reading the text content"
      ],
      "metadata": {
        "id": "4nEY5nKvZJCB"
      }
    },
    {
      "cell_type": "code",
      "source": [
        "# Opens the file \"StudentDetails.txt\" located in the specified path in read mode.\n",
        "# The `with` statement ensures the file is properly closed after it is read.\n",
        "# `f.readlines()` reads all lines in the file and returns a list, where each element is a single line from the file.\n",
        "# The list of lines is stored in the variable `text`.\n",
        "with open(\"/content/drive/MyDrive/StudentDetails.txt\") as f:\n",
        "    text = f.readlines()\n",
        "\n",
        "# Displays the contents of the `text` variable, which is a list of lines read from the file.\n",
        "# Each line will appear as a separate string in the list.\n",
        "text"
      ],
      "metadata": {
        "colab": {
          "base_uri": "https://localhost:8080/"
        },
        "id": "_nl5huixL7ul",
        "outputId": "1e505b21-65a5-4393-df41-07f7dea8c2a5"
      },
      "execution_count": 2,
      "outputs": [
        {
          "output_type": "execute_result",
          "data": {
            "text/plain": [
              "['Name\\tbirthday\\temail\\n',\n",
              " '------\\t----------\\t--------\\n',\n",
              " 'Virat\\t5 June, 1882\\tvirat@kohli.com\\n',\n",
              " 'Maria\\t12 April, 2001\\tmaria@singham.com\\n',\n",
              " 'Serena \\t24 June, 1998\\tserena@perera.com\\n',\n",
              " 'Joe\\t1 May, 1997\\tjoe@root.com']"
            ]
          },
          "metadata": {},
          "execution_count": 2
        }
      ]
    },
    {
      "cell_type": "markdown",
      "source": [
        "- Step 2: Convert the content into one single statement/sentence (before tokenization)"
      ],
      "metadata": {
        "id": "PmJkamvXZbZH"
      }
    },
    {
      "cell_type": "code",
      "source": [
        "# Joins all the lines in the `text` list into a single string.\n",
        "# Each line in the `text` list is concatenated, with a space (\" \") inserted between them.\n",
        "# This creates a single continuous block of text, making it easier to process or search through the entire content at once.\n",
        "# The resulting single string is reassigned to the variable `text`.\n",
        "text = \" \".join(text)\n",
        "\n",
        "# Displays the content of the `text` variable after joining the lines.\n",
        "text"
      ],
      "metadata": {
        "colab": {
          "base_uri": "https://localhost:8080/",
          "height": 53
        },
        "id": "iruJZupqOBSt",
        "outputId": "27f7a4b1-1855-4306-e341-4108d9169283"
      },
      "execution_count": 3,
      "outputs": [
        {
          "output_type": "execute_result",
          "data": {
            "text/plain": [
              "'Name\\tbirthday\\temail\\n ------\\t----------\\t--------\\n Virat\\t5 June, 1882\\tvirat@kohli.com\\n Maria\\t12 April, 2001\\tmaria@singham.com\\n Serena \\t24 June, 1998\\tserena@perera.com\\n Joe\\t1 May, 1997\\tjoe@root.com'"
            ],
            "application/vnd.google.colaboratory.intrinsic+json": {
              "type": "string"
            }
          },
          "metadata": {},
          "execution_count": 3
        }
      ]
    },
    {
      "cell_type": "markdown",
      "source": [
        "- Step 3: Extract email adresses (tokens)"
      ],
      "metadata": {
        "id": "RUwt1fp9aCIK"
      }
    },
    {
      "cell_type": "markdown",
      "source": [
        "### Using spaCy"
      ],
      "metadata": {
        "id": "1MtEEzIo1ZNw"
      }
    },
    {
      "cell_type": "code",
      "source": [
        "# Importing the spaCy library for natural language processing (NLP) tasks\n",
        "import spacy"
      ],
      "metadata": {
        "id": "XCvZ6vHH1hUS"
      },
      "execution_count": 4,
      "outputs": []
    },
    {
      "cell_type": "code",
      "execution_count": 5,
      "metadata": {
        "id": "d88-F36NPBjX",
        "colab": {
          "base_uri": "https://localhost:8080/"
        },
        "outputId": "175a54c4-f7cb-4742-d7d3-d9eb1fde3137"
      },
      "outputs": [
        {
          "output_type": "stream",
          "name": "stdout",
          "text": [
            "Extracted Emails: ['virat@kohli.com', 'maria@singham.com', 'serena@perera.com', 'joe@root.com']\n"
          ]
        }
      ],
      "source": [
        "# Load spaCy's blank English model\n",
        "nlp = spacy.blank(\"en\")\n",
        "\n",
        "# Process the text with spaCy\n",
        "doc = nlp(text)\n",
        "\n",
        "# Initializes an empty list `emails` to store email addresses found in the document.\n",
        "emails = []\n",
        "\n",
        "for token in doc:                       # Iterates over each token in the `doc` object.\n",
        "    if token.like_email:                # Checks if the token is recognized as an email address by spaCy. `token.like_email` is a boolean attribute that returns `True` if the token looks like an email (e.g., contains \"@\" and a valid domain structure).\n",
        "        emails.append(token.text)       # If the token is an email address (`like_email` is `True`), it adds the token's text (the email address) to the `emails` list.\n",
        "# emails = [token.text for token in doc if \"@\" in token.text]\n",
        "\n",
        "# Print extracted email addresses\n",
        "print(\"Extracted Emails:\", emails)"
      ]
    },
    {
      "cell_type": "code",
      "source": [
        "# Sending a mock email to each extracted address\n",
        "for email in emails:\n",
        "    print(f\"Sending email to: {email}\")"
      ],
      "metadata": {
        "colab": {
          "base_uri": "https://localhost:8080/"
        },
        "id": "4AybPvXMKwk8",
        "outputId": "1571e497-0e4a-45f9-ff9e-3fc51ea8f1eb"
      },
      "execution_count": 6,
      "outputs": [
        {
          "output_type": "stream",
          "name": "stdout",
          "text": [
            "Sending email to: virat@kohli.com\n",
            "Sending email to: maria@singham.com\n",
            "Sending email to: serena@perera.com\n",
            "Sending email to: joe@root.com\n"
          ]
        }
      ]
    },
    {
      "cell_type": "markdown",
      "source": [
        "### Using Regex"
      ],
      "metadata": {
        "id": "L-bqSpcm1KDa"
      }
    },
    {
      "cell_type": "code",
      "source": [
        "# Importing the re library for working with regular expressions to extract specific patterns like emails.\n",
        "import re"
      ],
      "metadata": {
        "id": "oOKSK3gJRhMQ"
      },
      "execution_count": 7,
      "outputs": []
    },
    {
      "cell_type": "code",
      "source": [
        "# Define regex pattern for emails\n",
        "email_pattern = re.compile(r\"[a-zA-Z0-9._%+-]+@[a-zA-Z0-9.-]+\\.[a-zA-Z]{2,}\")\n",
        "\n",
        "# Use regex to find all email addresses\n",
        "emails = re.findall(email_pattern, text)\n",
        "\n",
        "# Print extracted email addresses\n",
        "print(\"Extracted Emails:\", emails)"
      ],
      "metadata": {
        "colab": {
          "base_uri": "https://localhost:8080/"
        },
        "id": "L6MsakxRR3vf",
        "outputId": "b77d8d27-8137-4560-fa7d-caf0eaff3fce"
      },
      "execution_count": 8,
      "outputs": [
        {
          "output_type": "stream",
          "name": "stdout",
          "text": [
            "Extracted Emails: ['virat@kohli.com', 'maria@singham.com', 'serena@perera.com', 'joe@root.com']\n"
          ]
        }
      ]
    },
    {
      "cell_type": "code",
      "source": [
        "# Sending a mock email to each extracted address\n",
        "for email in emails:\n",
        "    print(f\"Sending email to: {email}\")"
      ],
      "metadata": {
        "colab": {
          "base_uri": "https://localhost:8080/"
        },
        "id": "lJFe7eI9J7fk",
        "outputId": "29bc6e9f-231c-4f05-942a-2c590abf840e"
      },
      "execution_count": 9,
      "outputs": [
        {
          "output_type": "stream",
          "name": "stdout",
          "text": [
            "Sending email to: virat@kohli.com\n",
            "Sending email to: maria@singham.com\n",
            "Sending email to: serena@perera.com\n",
            "Sending email to: joe@root.com\n"
          ]
        }
      ]
    }
  ]
}