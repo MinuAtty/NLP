{
  "nbformat": 4,
  "nbformat_minor": 0,
  "metadata": {
    "colab": {
      "provenance": []
    },
    "kernelspec": {
      "name": "python3",
      "display_name": "Python 3"
    },
    "language_info": {
      "name": "python"
    }
  },
  "cells": [
    {
      "cell_type": "markdown",
      "source": [
        "# Regular Expressions"
      ],
      "metadata": {
        "id": "-GCipbWy9WpU"
      }
    },
    {
      "cell_type": "code",
      "execution_count": 1,
      "metadata": {
        "id": "a4CC8gCfqAH9"
      },
      "outputs": [],
      "source": [
        "# Import the 're' module for regular expression operations\n",
        "import re"
      ]
    },
    {
      "cell_type": "code",
      "source": [
        "# Define the text string containing phone numbers and other information (e.g., revenue, company details)\n",
        "text = '''Elon musk's phone number is 9991116666, call him if you have any questions on dodgecoin. Tesla's revenue is 40 billion.\n",
        "Tesla's CFO number (999)-333-7777'''\n",
        "\n",
        "# Define a regular expression pattern to match phone numbers in two formats:\n",
        "# - '\\d{10}': Match exactly 10 digits in a row (e.g., \"9991116666\")\n",
        "# - '|': Logical OR to match the second format\n",
        "# - '\\(\\d{3}\\)-\\d{3}-\\d{4}': Match a phone number in the format \"(999)-333-7777\"\n",
        "# - '\\(': Match the literal opening parenthesis '('\n",
        "# - '\\d{3}': Match exactly 3 digits\n",
        "# - '\\)': Match the literal closing parenthesis ')'\n",
        "# - '-': Match the literal hyphen '-'\n",
        "# - '\\d{3}-\\d{4}': Match 3 digits followed by a hyphen and then 4 digits\n",
        "pattern = '\\d{10}|\\(\\d{3}\\)-\\d{3}-\\d{4}'\n",
        "\n",
        "# Use re.findall() to find all matches of the pattern (phone numbers) in the text\n",
        "# The result will be a list of phone numbers matching either the 10-digit or formatted (xxx)-xxx-xxxx pattern\n",
        "matches = re.findall(pattern, text)\n",
        "matches"
      ],
      "metadata": {
        "colab": {
          "base_uri": "https://localhost:8080/"
        },
        "id": "NWYNOOuiqKCN",
        "outputId": "1ba3a2a0-926b-4ded-b4a0-bc5f52e9d386"
      },
      "execution_count": 2,
      "outputs": [
        {
          "output_type": "execute_result",
          "data": {
            "text/plain": [
              "['9991116666', '(999)-333-7777']"
            ]
          },
          "metadata": {},
          "execution_count": 2
        }
      ]
    },
    {
      "cell_type": "code",
      "source": [
        "# Define the text string containing notes from a financial report (Notes 1 and 2 with detailed information)\n",
        "text = '''Note 1 - Overview\n",
        "Tesla, Inc. Notes to Consolidated Financial Statements (unaudited) Tesla, Inc. (“Tesla”, the “Company”, “we”, “us” or “our”) was incorporated in the State of Delaware on July 1, 2003. We design, develop, manufacture and sell high-performance fully electric vehicles and design, manufacture, install and sell solar energy generation and energy storage products. Our Chief Executive Officer, as the chief operating decision maker (“CODM”), organizes our company, manages resource allocations and measures performance among two operating and reportable segments: (i) automotive and (ii) energy generation and storage. Beginning in the first quarter of 2021, there has been a trend in many parts of the world of increasing availability and administration of vaccines against COVID-19, as well as an easing of restrictions on social, business, travel and government activities and functions. On the other hand, infection rates and regulations continue to fluctuate in various regions and there are ongoing global impacts resulting from the pandemic, including challenges and increases in costs for logistics and supply chains, such as increased port congestion, intermittent supplier delays and a shortfall of semiconductor supply. We have also previously been affected by temporary manufacturing closures, employment and compensation adjustments and impediments to administrative activities supporting our product deliveries and deployments.\n",
        "Note 2 - Summary of Significant Accounting Policies\n",
        "Unaudited Interim Financial Statements The consolidated balance sheet as of September 30, 2021, the consolidated statements of operations, the consolidated statements of comprehensive income, the consolidated statements of redeemable noncontrolling interests and equity for the three and nine months ended September 30, 2021 and 2020 and the consolidated statements of cash flows for the nine months ended September 30, 2021 and 2020, as well as other information disclosed in the accompanying notes, are unaudited. The consolidated balance sheet as of December 31, 2020 was derived from the audited consolidated financial statements as of that date. The interim consolidated financial statements and the accompanying notes should be read in conjunction with the annual consolidated financial statements and the accompanying notes contained in our Annual Report on Form 10-K for the year ended December 31, 2020.'''\n",
        "\n",
        "# Define a regular expression pattern to extract the text that follows the phrase \"Note X -\", where X is a number\n",
        "# - 'Note \\d': Match the literal string \"Note\" followed by a space and a digit (e.g., \"Note 1\" or \"Note 2\")\n",
        "# - ' - ': Match the literal characters \" - \" that separate the note number from the actual text\n",
        "# - '([^\\n]*)': Capture any sequence of characters that are not a newline ('\\n'), which corresponds to the note title or description\n",
        "# - '[^\\n]': Match any character except for a newline\n",
        "# - '*' allows this match to occur repeatedly across the entire line\n",
        "pattern = 'Note \\d - ([^\\n]*)'\n",
        "\n",
        "# Use re.findall() to find all matches of the pattern in the text\n",
        "# The result will be a list of the note titles/descriptions following \"Note X -\"\n",
        "# Example output: [\"Overview\", \"Summary of Significant Accounting Policies\"]\n",
        "re.findall(pattern, text)"
      ],
      "metadata": {
        "colab": {
          "base_uri": "https://localhost:8080/"
        },
        "id": "LoLNlXGMre7G",
        "outputId": "2055f61b-88d6-4d6a-ae00-d1c376d215da"
      },
      "execution_count": 3,
      "outputs": [
        {
          "output_type": "execute_result",
          "data": {
            "text/plain": [
              "['Overview', 'Summary of Significant Accounting Policies']"
            ]
          },
          "metadata": {},
          "execution_count": 3
        }
      ]
    },
    {
      "cell_type": "code",
      "source": [
        "# Define a regular expression pattern to match the entire \"Note X - <description>\" format in the text\n",
        "# - 'Note \\d': Match the literal string \"Note\" followed by a space and a digit (e.g., \"Note 1\" or \"Note 2\")\n",
        "# - ' - ': Match the literal characters \" - \" separating the note number from the description\n",
        "# - '[^\\n]*': Match any sequence of characters that are not a newline ('\\n'), which corresponds to the note's description\n",
        "# - '[^\\n]': Match any character except for a newline\n",
        "# - '*' allows the match to continue until the end of the line\n",
        "pattern = 'Note \\d - [^\\n]*'\n",
        "\n",
        "# Use re.findall() to find all matches of the pattern in the text\n",
        "# The result will be a list of the entire \"Note X - <description>\" strings (including the note title and description)\n",
        "# Example output: [\"Note 1 - Overview\", \"Note 2 - Summary of Significant Accounting Policies\"]\n",
        "re.findall(pattern, text)"
      ],
      "metadata": {
        "colab": {
          "base_uri": "https://localhost:8080/"
        },
        "id": "PY1Wh4yjUUKz",
        "outputId": "388bd5aa-44f2-413b-fc9b-a0211901bf58"
      },
      "execution_count": 4,
      "outputs": [
        {
          "output_type": "execute_result",
          "data": {
            "text/plain": [
              "['Note 1 - Overview', 'Note 2 - Summary of Significant Accounting Policies']"
            ]
          },
          "metadata": {},
          "execution_count": 4
        }
      ]
    },
    {
      "cell_type": "markdown",
      "source": [
        "### Extract financial periods from a company's financial reporting"
      ],
      "metadata": {
        "id": "HXQr4RvBUs8V"
      }
    },
    {
      "cell_type": "code",
      "source": [
        "# Define the text string containing fiscal year and quarter data (e.g., \"FY2021 Q1\" and \"FY2020 Q4\")\n",
        "text = '''The gross cost of operating lease vehicles in FY2021 Q1 was $4.85 billion.\n",
        "In the previous quarter i.e. FY2020 Q4 it was $3 billion.'''\n",
        "\n",
        "# Define a regular expression pattern to match fiscal year and quarter data in the format \"FYyyyy Qx\"\n",
        "# - 'FY': Match the literal string \"FY\" representing the fiscal year\n",
        "# - '\\d{4}': Match exactly 4 digits, which represents the year (e.g., \"2021\" or \"2020\")\n",
        "# - ' Q[1-4]': Match a space followed by \"Q\" and a number between 1 and 4 (representing the fiscal quarter, e.g., \"Q1\" or \"Q4\")\n",
        "pattern = 'FY\\d{4} Q[1-4]'\n",
        "\n",
        "# Use re.findall() to find all matches of the pattern in the text\n",
        "# This will return a list of fiscal year and quarter designations such as [\"FY2021 Q1\", \"FY2020 Q4\"]\n",
        "re.findall(pattern, text)"
      ],
      "metadata": {
        "colab": {
          "base_uri": "https://localhost:8080/"
        },
        "id": "BkOy0SVnUo6R",
        "outputId": "c8c83e31-09b2-4545-d3c8-9e9a6e445129"
      },
      "execution_count": 5,
      "outputs": [
        {
          "output_type": "execute_result",
          "data": {
            "text/plain": [
              "['FY2021 Q1', 'FY2020 Q4']"
            ]
          },
          "metadata": {},
          "execution_count": 5
        }
      ]
    },
    {
      "cell_type": "code",
      "source": [
        "# Define an alternative regular expression pattern with a similar structure, but the range for the quarter is written as [1234]\n",
        "# - 'FY': Match the literal string \"FY\"\n",
        "# - '\\d{4}': Match exactly 4 digits for the year\n",
        "# - ' Q[1234]': Match a space followed by \"Q\" and any digit between 1 and 4 (a slight variation in the range representation)\n",
        "pattern = 'FY\\d{4} Q[1234]'\n",
        "\n",
        "# Use re.findall() again to find all matches of this alternative pattern in the text\n",
        "# The output should be the same as the previous one, i.e., [\"FY2021 Q1\", \"FY2020 Q4\"]\n",
        "re.findall(pattern, text)"
      ],
      "metadata": {
        "colab": {
          "base_uri": "https://localhost:8080/"
        },
        "id": "j6j7ESnyZtql",
        "outputId": "c60e3690-27e8-459e-c52e-9d2e1e4bc8f2"
      },
      "execution_count": 6,
      "outputs": [
        {
          "output_type": "execute_result",
          "data": {
            "text/plain": [
              "['FY2021 Q1', 'FY2020 Q4']"
            ]
          },
          "metadata": {},
          "execution_count": 6
        }
      ]
    },
    {
      "cell_type": "code",
      "source": [
        "# Define a regular expression pattern that captures the fiscal year and quarter information in a group\n",
        "# - 'FY': Match the literal string \"FY\"\n",
        "# - '(\\d{4} Q[1234])': Capture a group that includes:\n",
        "# - '\\d{4}': Exactly 4 digits for the year\n",
        "# - ' Q[1234]': A space followed by \"Q\" and a number from 1 to 4\n",
        "# The captured group will allow us to extract the full fiscal year and quarter data.\n",
        "pattern = 'FY(\\d{4} Q[1234])'\n",
        "\n",
        "# Use re.findall() to find all matches of the pattern in the text\n",
        "# This will return a list of the fiscal year and quarter information, but only the captured part inside the parentheses\n",
        "# The result will be a list like [\"2021 Q1\", \"2020 Q4\"]\n",
        "re.findall(pattern, text)"
      ],
      "metadata": {
        "colab": {
          "base_uri": "https://localhost:8080/"
        },
        "id": "9cG4SBiTarm4",
        "outputId": "edf8dc13-edbf-449f-be07-96ffe9b32542"
      },
      "execution_count": 7,
      "outputs": [
        {
          "output_type": "execute_result",
          "data": {
            "text/plain": [
              "['2021 Q1', '2020 Q4']"
            ]
          },
          "metadata": {},
          "execution_count": 7
        }
      ]
    },
    {
      "cell_type": "code",
      "source": [
        "# Define the text string containing fiscal year and quarter data with different case formats (e.g., \"FY2021 Q1\" and \"fy2020 Q4\")\n",
        "text = '''The gross cost of operating lease vehicles in FY2021 Q1 was $4.85 billion.\n",
        "In the previous quarter i.e. fy2020 Q4 it was $3 billion.'''\n",
        "\n",
        "# Define the regular expression pattern to match fiscal year and quarter data in the format \"FYyyyy Qx\"\n",
        "# - 'FY': Match the literal string \"FY\" (representing the fiscal year).\n",
        "# - '\\d{4}': Match exactly 4 digits for the year (e.g., \"2021\" or \"2020\").\n",
        "# - ' Q[1-4]': Match a space followed by \"Q\" and a number between 1 and 4, which represents the fiscal quarter (e.g., \"Q1\" or \"Q4\").\n",
        "pattern = 'FY\\d{4} Q[1-4]'\n",
        "\n",
        "# Use re.findall() to find all matches of the pattern in the text.\n",
        "# The 'flags=re.I' argument makes the search case-insensitive, meaning it will match both \"FY\" and \"fy\" regardless of case.\n",
        "# The result will return a list of fiscal year and quarter designations that match the pattern \"FYyyyy Qx\" or \"fyyyyy Qx\".\n",
        "# This way, the case of \"FY\" (upper or lowercase) won't affect the result.\n",
        "re.findall(pattern, text, flags=re.I)"
      ],
      "metadata": {
        "colab": {
          "base_uri": "https://localhost:8080/"
        },
        "id": "NjgYlnF3aUTF",
        "outputId": "315d384a-19d5-44ad-b2aa-05904a93c311"
      },
      "execution_count": 8,
      "outputs": [
        {
          "output_type": "execute_result",
          "data": {
            "text/plain": [
              "['FY2021 Q1', 'fy2020 Q4']"
            ]
          },
          "metadata": {},
          "execution_count": 8
        }
      ]
    },
    {
      "cell_type": "code",
      "source": [
        "# Define the text string containing fiscal year data, dollar amounts, and other information\n",
        "# The text contains dollar values and fiscal year information that we want to extract using regular expressions.\n",
        "text = '''The gross cost of operating lease vehicles in FY2021 Q1 was $4.85 billion. Tesla's employee count is 5400. In the previous quarter i.e. FY2020 Q4 it was $3 billion.'''\n",
        "\n",
        "# Define another alternative regular expression pattern to match dollar amounts, using a different shorthand for digits.\n",
        "# Explanation of the pattern:\n",
        "# - '\\$': Match the literal dollar sign \"$\".\n",
        "# - '[\\d\\.]+': Match one or more digits or dots (a shorthand for [0-9]).\n",
        "# This pattern is essentially the same as the previous one, but uses shorthand `\\d` for digits.\n",
        "pattern = '\\$[\\d\\.]+'\n",
        "pattern = '\\$([0-9\\.]+)'\n",
        "\n",
        "# Use re.findall() to find all matches of this pattern in the text.\n",
        "# This will also return a list of the full dollar amounts, including the \"$\" symbol (e.g., [\"$4.85\", \"$3\"]).\n",
        "re.findall(pattern, text)"
      ],
      "metadata": {
        "colab": {
          "base_uri": "https://localhost:8080/"
        },
        "id": "fjp78xgmdAD3",
        "outputId": "2f69f85d-b992-4855-fa1a-627855b24569"
      },
      "execution_count": 9,
      "outputs": [
        {
          "output_type": "execute_result",
          "data": {
            "text/plain": [
              "['4.85', '3']"
            ]
          },
          "metadata": {},
          "execution_count": 9
        }
      ]
    },
    {
      "cell_type": "code",
      "source": [
        "# Define an alternative regular expression pattern to match dollar amounts, similar to the first one but without parentheses for capturing.\n",
        "# - '\\$': Match the literal dollar sign \"$\".\n",
        "# - '[0-9\\.]+': Match one or more digits or dots (representing a number).\n",
        "# This pattern matches dollar amounts including the \"$\" sign, but will return the full \"$<number>\" string.\n",
        "pattern = '\\$[0-9\\.]+'\n",
        "\n",
        "re.findall(pattern, text)"
      ],
      "metadata": {
        "colab": {
          "base_uri": "https://localhost:8080/"
        },
        "id": "wz02V8O2dM2A",
        "outputId": "9a5ee104-524c-496d-c4f1-6f217898d8e6"
      },
      "execution_count": 10,
      "outputs": [
        {
          "output_type": "execute_result",
          "data": {
            "text/plain": [
              "['$4.85', '$3']"
            ]
          },
          "metadata": {},
          "execution_count": 10
        }
      ]
    },
    {
      "cell_type": "code",
      "source": [
        "# Define another alternative regular expression pattern to match dollar amounts, using a different shorthand for digits.\n",
        "# - '\\$': Match the literal dollar sign \"$\".\n",
        "# - '[\\d\\.]+': Match one or more digits or dots (a shorthand for [0-9]).\n",
        "# This pattern is essentially the same as the previous one, but uses shorthand `\\d` for digits.\n",
        "pattern = '\\$[\\d\\.]+'\n",
        "\n",
        "re.findall(pattern, text)"
      ],
      "metadata": {
        "colab": {
          "base_uri": "https://localhost:8080/"
        },
        "id": "r3HVZUKadWQt",
        "outputId": "cae8ace6-ba70-4215-ebd0-ae5aee0cefa2"
      },
      "execution_count": 11,
      "outputs": [
        {
          "output_type": "execute_result",
          "data": {
            "text/plain": [
              "['$4.85', '$3']"
            ]
          },
          "metadata": {},
          "execution_count": 11
        }
      ]
    },
    {
      "cell_type": "code",
      "source": [
        "# Define a pattern to match fiscal year and quarter, followed by a dollar amount.\n",
        "# - 'FY(\\d{4} Q[1-4])': Match \"FY\", followed by exactly four digits representing the year, a space, and \"Q1-Q4\" (the fiscal quarter).\n",
        "# - '[^\\$]+': Match one or more characters that are not a dollar sign (i.e., any text between the fiscal year/quarter and the dollar amount).\n",
        "# - '\\$([0-9\\.]+)': Match the dollar sign \"$\" followed by one or more digits or dots (capturing the dollar amount).\n",
        "# This pattern captures both the fiscal year/quarter and the corresponding dollar amount in a group.\n",
        "pattern = 'FY(\\d{4} Q[1-4])[^\\$]+\\$([0-9\\.]+)'\n",
        "\n",
        "# Use re.findall() to find all matches of this pattern in the text.\n",
        "# This will return a list of tuples, where each tuple contains the fiscal year/quarter and the corresponding dollar amount.\n",
        "# For example, [(\"2021 Q1\", \"4.85\"), (\"2020 Q4\", \"3\")]\n",
        "re.findall(pattern, text)"
      ],
      "metadata": {
        "colab": {
          "base_uri": "https://localhost:8080/"
        },
        "id": "uh71tyE9hp4I",
        "outputId": "6aca8542-0e0b-46ae-f71a-6fc7fbd1978b"
      },
      "execution_count": 12,
      "outputs": [
        {
          "output_type": "execute_result",
          "data": {
            "text/plain": [
              "[('2021 Q1', '4.85'), ('2020 Q4', '3')]"
            ]
          },
          "metadata": {},
          "execution_count": 12
        }
      ]
    },
    {
      "cell_type": "code",
      "source": [
        "# Use re.search() to find the first match of the pattern in the text.\n",
        "# This method returns a match object for the first found occurrence.\n",
        "# If no match is found, it returns None.\n",
        "matches = re.search(pattern, text)\n",
        "matches"
      ],
      "metadata": {
        "colab": {
          "base_uri": "https://localhost:8080/"
        },
        "id": "Miay5KuSimH3",
        "outputId": "e1eec757-4a1f-41ae-a10e-35c1a1803acf"
      },
      "execution_count": 13,
      "outputs": [
        {
          "output_type": "execute_result",
          "data": {
            "text/plain": [
              "<re.Match object; span=(46, 65), match='FY2021 Q1 was $4.85'>"
            ]
          },
          "metadata": {},
          "execution_count": 13
        }
      ]
    },
    {
      "cell_type": "code",
      "source": [
        "# Use the .groups() method on the match object to extract the captured groups.\n",
        "# This will return a tuple with the matched groups from the regular expression.\n",
        "# In this case, it will return (\"2021 Q1\", \"4.85\").\n",
        "matches.groups()"
      ],
      "metadata": {
        "colab": {
          "base_uri": "https://localhost:8080/"
        },
        "id": "LT-yhiGYirOX",
        "outputId": "c736a2de-4021-438e-9f6c-154bfbd6f61b"
      },
      "execution_count": 14,
      "outputs": [
        {
          "output_type": "execute_result",
          "data": {
            "text/plain": [
              "('2021 Q1', '4.85')"
            ]
          },
          "metadata": {},
          "execution_count": 14
        }
      ]
    }
  ]
}