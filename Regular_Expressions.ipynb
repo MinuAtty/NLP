{
  "cells": [
    {
      "cell_type": "markdown",
      "metadata": {
        "id": "6w1fl0-hdq3T"
      },
      "source": [
        "<h3>(1) Regex in customer support</h3>"
      ]
    },
    {
      "cell_type": "markdown",
      "metadata": {
        "id": "j9UiayEUdq3U"
      },
      "source": [
        "<h3>Retrieve order number</h3>"
      ]
    },
    {
      "cell_type": "code",
      "source": [
        "# Import the 're' module for regular expression operations\n",
        "import re"
      ],
      "metadata": {
        "id": "khy-FPiAfnPZ"
      },
      "execution_count": 1,
      "outputs": []
    },
    {
      "cell_type": "code",
      "execution_count": 2,
      "metadata": {
        "id": "PRfzi6Z_dq3V"
      },
      "outputs": [],
      "source": [
        "# Define the chat messages with a customer query containing an order number\n",
        "chat1='customer: Hello, I am having an issue with my order # 412889912'\n",
        "chat2='customer: I have a problem with my order number 412889912'\n",
        "chat3='customer: My order 412889912 is having an issue, I was charged 300$ when online it says 280$'"
      ]
    },
    {
      "cell_type": "code",
      "source": [
        "# Define a regular expression pattern to capture the order number\n",
        "pattern = 'order[^\\d]*(\\d*)'"
      ],
      "metadata": {
        "id": "2A9jwXEhSLpt"
      },
      "execution_count": 3,
      "outputs": []
    },
    {
      "cell_type": "markdown",
      "source": [
        "- **'order'** : Match the word \"order\"\n",
        "- **'[^\\d]*'** : Match any characters that are not digits (zero or more times) after \"order\"\n",
        "- **'(\\d*)'** : Capture a sequence of digits (zero or more times) following the non-digit characters"
      ],
      "metadata": {
        "id": "EfrokWitSZTG"
      }
    },
    {
      "cell_type": "code",
      "source": [
        "# Use a list comprehension to apply re.findall() with the pattern to each chat message (chat1, chat2, chat3)\n",
        "# This will find all matches for the pattern (order numbers) in each chat message\n",
        "matches = [re.findall(pattern, chat) for chat in [chat1, chat2, chat3]]\n",
        "matches"
      ],
      "metadata": {
        "colab": {
          "base_uri": "https://localhost:8080/"
        },
        "id": "0qFniKRDSSd1",
        "outputId": "cdb89d66-217e-4d53-f6e5-8edc9b22df50"
      },
      "execution_count": 4,
      "outputs": [
        {
          "output_type": "execute_result",
          "data": {
            "text/plain": [
              "[['412889912'], ['412889912'], ['412889912']]"
            ]
          },
          "metadata": {},
          "execution_count": 4
        }
      ]
    },
    {
      "cell_type": "markdown",
      "metadata": {
        "id": "expdlDpBdq3Y"
      },
      "source": [
        "<h3>Retrieve email id and phone</h3>"
      ]
    },
    {
      "cell_type": "code",
      "execution_count": 5,
      "metadata": {
        "id": "_x94H5wedq3Z"
      },
      "outputs": [],
      "source": [
        "# Define the chat messages containing a phone number, email, and other text\n",
        "chat1 = 'codebasics: you ask lot of questions 1235678912, abc@xyz.com, 9998881234'\n",
        "chat2 = 'codebasics: here it is: (123)-567-8912, abX_82@xyz.com'\n",
        "chat3 = 'codebasics: yes, phone: 1235678912 email: abc@xyz.com'"
      ]
    },
    {
      "cell_type": "markdown",
      "metadata": {
        "id": "AkLLVyvBdq3Z"
      },
      "source": [
        "**-----Email id-----**"
      ]
    },
    {
      "cell_type": "code",
      "source": [
        "# Define a pattern to match email addresses\n",
        "pattern = '[a-zA-Z0-9_]*@[a-z]*\\.[a-zA-Z0-9]*'"
      ],
      "metadata": {
        "id": "vI56WDqWTEAu"
      },
      "execution_count": 6,
      "outputs": []
    },
    {
      "cell_type": "markdown",
      "source": [
        "- **'[a-zA-Z0-9_]*'** : Match any combination of letters, digits, or underscores (zero or more times) before the '@'\n",
        "- **'@'** : Match the '@' symbol\n",
        "- **'[a-z]*'** : Match lowercase letters (zero or more times) after the '@'\n",
        "- **'\\.'** : Match the '.' symbol (escaped because '.' is a special character in regex)\n",
        "- **'[a-zA-Z0-9]*'** : Match any combination of letters or digits (zero or more times) after the '.'"
      ],
      "metadata": {
        "id": "ehwPBkRJT7D8"
      }
    },
    {
      "cell_type": "code",
      "execution_count": 7,
      "metadata": {
        "colab": {
          "base_uri": "https://localhost:8080/"
        },
        "id": "I2BtF5Fmdq3a",
        "outputId": "45852343-a4bf-4e58-8ca6-ee41ae40af76"
      },
      "outputs": [
        {
          "output_type": "execute_result",
          "data": {
            "text/plain": [
              "[['abc@xyz.com'], ['abX_82@xyz.com'], ['abc@xyz.com']]"
            ]
          },
          "metadata": {},
          "execution_count": 7
        }
      ],
      "source": [
        "# Use a list comprehension to apply re.findall() with the pattern to each chat message (chat1, chat2, chat3)\n",
        "# This will find all matches for the pattern (email) in each chat message\n",
        "matches = [re.findall(pattern, chat) for chat in [chat1, chat2, chat3]]\n",
        "matches"
      ]
    },
    {
      "cell_type": "markdown",
      "metadata": {
        "id": "Z0RE33Zkdq3b"
      },
      "source": [
        "**-----Phone number-----**"
      ]
    },
    {
      "cell_type": "code",
      "source": [
        "# Define a pattern to match phone numbers\n",
        "pattern = '\\d{10}|\\(\\d{3}\\)-\\d{3}-\\d{4}'"
      ],
      "metadata": {
        "id": "L_Nz7EQrTS_7"
      },
      "execution_count": 8,
      "outputs": []
    },
    {
      "cell_type": "markdown",
      "source": [
        "- **'\\d{10}'** : Match a sequence of exactly 10 digits (e.g., \"1235678912\")\n",
        "- **'|'** : Logical OR, to also match another format\n",
        "- **'\\(\\d{3}\\)-\\d{3}-\\d{4}'** : Match a phone number in the format \"(123)-567-8912\"\n",
        "- **'\\('** : Match the opening parenthesis '('\n",
        "- **'\\d{3}'** : Match exactly 3 digits\n",
        "- **'\\)'** : Match the closing parenthesis ')'\n",
        "- **'-'** : Match the hyphen '-'\n",
        "- **'\\d{3}-\\d{4}'** : Match 3 digits, a hyphen, and then 4 digits"
      ],
      "metadata": {
        "id": "tQzaUpE_UXoT"
      }
    },
    {
      "cell_type": "code",
      "execution_count": 9,
      "metadata": {
        "colab": {
          "base_uri": "https://localhost:8080/"
        },
        "id": "6BKwujs5dq3b",
        "outputId": "10a01bf7-b062-4b90-a9d3-8a0b27bd2498"
      },
      "outputs": [
        {
          "output_type": "execute_result",
          "data": {
            "text/plain": [
              "[['1235678912', '9998881234'], ['(123)-567-8912'], ['1235678912']]"
            ]
          },
          "metadata": {},
          "execution_count": 9
        }
      ],
      "source": [
        "# Use a list comprehension to apply re.findall() with the pattern to each chat message (chat1, chat2, chat3)\n",
        "# This will find all matches for the pattern (phone numbers) in each chat message\n",
        "matches = [re.findall(pattern, chat) for chat in [chat1, chat2, chat3]]\n",
        "matches"
      ]
    },
    {
      "cell_type": "markdown",
      "metadata": {
        "id": "DpAGHAJFdq3c"
      },
      "source": [
        "<h3>(2) Regex for Information Extraction</h3>"
      ]
    },
    {
      "cell_type": "code",
      "execution_count": 10,
      "metadata": {
        "id": "rjOBE2pwdq3c"
      },
      "outputs": [],
      "source": [
        "# Define the text string containing details about Elon Musk\n",
        "text='''\n",
        "Born\tElon Reeve Musk\n",
        "June 28, 1971 (age 50)\n",
        "Pretoria, Transvaal, South Africa\n",
        "Citizenship\n",
        "South Africa (1971–present)\n",
        "Canada (1971–present)\n",
        "United States (2002–present)\n",
        "Education\tUniversity of Pennsylvania (BS, BA)\n",
        "Title\n",
        "Founder, CEO and Chief Engineer of SpaceX\n",
        "CEO and product architect of Tesla, Inc.\n",
        "Founder of The Boring Company and X.com (now part of PayPal)\n",
        "Co-founder of Neuralink, OpenAI, and Zip2\n",
        "Spouse(s)\n",
        "Justine Wilson\n",
        "​\n",
        "​(m. 2000; div. 2008)​\n",
        "Talulah Riley\n",
        "​\n",
        "​(m. 2010; div. 2012)​\n",
        "​\n",
        "​(m. 2013; div. 2016)\n",
        "'''"
      ]
    },
    {
      "cell_type": "code",
      "execution_count": 11,
      "metadata": {
        "colab": {
          "base_uri": "https://localhost:8080/"
        },
        "id": "H175g3hwdq3c",
        "outputId": "4388c8f2-4a6c-4282-e32f-c88af0c58e64"
      },
      "outputs": [
        {
          "output_type": "execute_result",
          "data": {
            "text/plain": [
              "['50']"
            ]
          },
          "metadata": {},
          "execution_count": 11
        }
      ],
      "source": [
        "# Define a pattern to extract the age\n",
        "pattern = 'age (\\d+)'\n",
        "\n",
        "# Use re.findall() to find all matches for the pattern (age) in the text\n",
        "matches = re.findall(pattern, text)\n",
        "matches"
      ]
    },
    {
      "cell_type": "markdown",
      "source": [
        "- **'age'** : Match the literal word \"age\"\n",
        "- **'(\\d+)'** : Capture one or more digits (the age number)"
      ],
      "metadata": {
        "id": "rhabebHWW90S"
      }
    },
    {
      "cell_type": "code",
      "execution_count": 12,
      "metadata": {
        "colab": {
          "base_uri": "https://localhost:8080/"
        },
        "id": "sXA8VNzjdq3c",
        "outputId": "734f2cce-2d15-414f-c5b2-070372f644ab"
      },
      "outputs": [
        {
          "output_type": "execute_result",
          "data": {
            "text/plain": [
              "['Elon Reeve Musk']"
            ]
          },
          "metadata": {},
          "execution_count": 12
        }
      ],
      "source": [
        "# Define a pattern to extract the full name\n",
        "pattern = 'Born(.*)\\n'\n",
        "\n",
        "# Use re.findall() to find all matches for the full name, stripping any leading/trailing whitespace\n",
        "matches = [match.strip() for match in re.findall(pattern, text)]\n",
        "matches"
      ]
    },
    {
      "cell_type": "markdown",
      "source": [
        "- **'Born'** : Match the literal word \"Born\"\n",
        "- **'(.*)'** : Capture any characters (the full name) following \"Born\"\n",
        "- **'\\n'** : Match the newline character, ensuring separation from the next line"
      ],
      "metadata": {
        "id": "pXM9CjJYXRDZ"
      }
    },
    {
      "cell_type": "code",
      "execution_count": 13,
      "metadata": {
        "colab": {
          "base_uri": "https://localhost:8080/"
        },
        "id": "vrqlFYBodq3d",
        "outputId": "c5502b3d-a737-4a5b-ec75-c890f9f1b4cc"
      },
      "outputs": [
        {
          "output_type": "execute_result",
          "data": {
            "text/plain": [
              "['June 28, 1971']"
            ]
          },
          "metadata": {},
          "execution_count": 13
        }
      ],
      "source": [
        "# Define a pattern to extract the birth date\n",
        "pattern = 'Born.*\\n(.*)\\(age'\n",
        "\n",
        "# Use re.findall() to find all matches for the birth date, stripping any leading/trailing whitespace\n",
        "matches = [match.strip() for match in re.findall(pattern, text)]\n",
        "matches"
      ]
    },
    {
      "cell_type": "markdown",
      "source": [
        "- **'Born'** : Match the literal word \"Born\"\n",
        "- **'.*\\n'** : Capture any characters followed by a newline, ensuring separation\n",
        "- **'(.*)'** : Capture any characters (the birth date) between the newline and \"age\""
      ],
      "metadata": {
        "id": "lHZSB02YXk-p"
      }
    },
    {
      "cell_type": "code",
      "execution_count": 14,
      "metadata": {
        "colab": {
          "base_uri": "https://localhost:8080/"
        },
        "id": "LiLWuOjUdq3d",
        "outputId": "a93157a4-4a70-4c88-ab88-cee918e8d470"
      },
      "outputs": [
        {
          "output_type": "execute_result",
          "data": {
            "text/plain": [
              "['Pretoria, Transvaal, South Africa']"
            ]
          },
          "metadata": {},
          "execution_count": 14
        }
      ],
      "source": [
        "# Define a pattern to extract the birth place\n",
        "pattern = '\\(age.*\\n(.*)'\n",
        "\n",
        "# Use re.findall() to find all matches for the birth place\n",
        "matches = re.findall(pattern, text)\n",
        "matches"
      ]
    },
    {
      "cell_type": "markdown",
      "source": [
        "- **'\\(age'** : Match the literal string \"(age\"\n",
        "- **'.*\\n'** : Capture any characters followed by a newline, ensuring separation\n",
        "- **'(.*)'**: Capture any characters (the birth place) after the newline"
      ],
      "metadata": {
        "id": "eekyUpOGXx0o"
      }
    },
    {
      "cell_type": "code",
      "execution_count": 15,
      "metadata": {
        "colab": {
          "base_uri": "https://localhost:8080/"
        },
        "id": "SLN95Bridq3d",
        "outputId": "31ebfe48-8e33-4032-87e7-16ee4f85ac4c"
      },
      "outputs": [
        {
          "output_type": "stream",
          "name": "stdout",
          "text": [
            "age:  ['50']\n",
            "full_name:  ['Elon Reeve Musk']\n",
            "birth_date:  ['June 28, 1971']\n",
            "birth_place:  ['Pretoria, Transvaal, South Africa']\n"
          ]
        }
      ],
      "source": [
        "age = 'age (\\d+)'\n",
        "matches_age = re.findall(age, text)\n",
        "matches_age\n",
        "\n",
        "full_name = 'Born(.*)\\n'\n",
        "matches_full_name = [match.strip() for match in re.findall(full_name, text)]\n",
        "matches_full_name\n",
        "\n",
        "birth_date = 'Born.*\\n(.*)\\(age'\n",
        "matches_birth_date = [match.strip() for match in re.findall(birth_date, text)]\n",
        "matches_birth_date\n",
        "\n",
        "birth_place = '\\(age.*\\n(.*)'\n",
        "matches_birth_place = re.findall(birth_place, text)\n",
        "matches_birth_place\n",
        "\n",
        "# Print the extracted information\n",
        "print('age: ', matches_age)\n",
        "print('full_name: ', matches_full_name)\n",
        "print('birth_date: ', matches_birth_date)\n",
        "print('birth_place: ', matches_birth_place)"
      ]
    },
    {
      "cell_type": "code",
      "execution_count": 16,
      "metadata": {
        "id": "LRjiaT4mdq3d"
      },
      "outputs": [],
      "source": [
        "# Define the text string containing details about Mukesh Ambani\n",
        "text = '''\n",
        "Born\tMukesh Dhirubhai Ambani\n",
        "19 April 1957 (age 64)\n",
        "Aden, Colony of Aden\n",
        "(present-day Yemen)[1][2]\n",
        "Nationality\tIndian\n",
        "Alma mater\n",
        "St. Xavier's College, Mumbai\n",
        "Institute of Chemical Technology (B.E.)\n",
        "Stanford University (drop-out)\n",
        "Occupation\tChairman and MD, Reliance Industries\n",
        "Spouse(s)\tNita Ambani ​(m. 1985)​[3]\n",
        "Children\t3\n",
        "Parent(s)\n",
        "Dhirubhai Ambani (father)\n",
        "Kokilaben Ambani (mother)\n",
        "Relatives\tAnil Ambani (brother)\n",
        "Tina Ambani (sister-in-law)\n",
        "'''"
      ]
    },
    {
      "cell_type": "code",
      "execution_count": 17,
      "metadata": {
        "scrolled": true,
        "colab": {
          "base_uri": "https://localhost:8080/"
        },
        "id": "JZxgM9y8dq3e",
        "outputId": "7cbd6187-336b-4c4e-97d6-1ea85a773255"
      },
      "outputs": [
        {
          "output_type": "stream",
          "name": "stdout",
          "text": [
            "age:  ['64']\n",
            "full_name:  ['Mukesh Dhirubhai Ambani']\n",
            "birth_date:  ['19 April 1957']\n",
            "birth_place:  ['Aden, Colony of Aden']\n"
          ]
        }
      ],
      "source": [
        "# Define a pattern to extract the age\n",
        "age = 'age (\\d+)'\n",
        "matches_age = re.findall(age, text)\n",
        "matches_age\n",
        "\n",
        "# Define a pattern to extract the full name\n",
        "full_name = 'Born(.*)\\n'\n",
        "matches_full_name = [match.strip() for match in re.findall(full_name, text)]\n",
        "matches_full_name\n",
        "\n",
        "# Define a pattern to extract the birth_date\n",
        "birth_date = 'Born.*\\n(.*)\\(age'\n",
        "matches_birth_date = [match.strip() for match in re.findall(birth_date, text)]\n",
        "matches_birth_date\n",
        "\n",
        "# Define a pattern to extract the birth_place\n",
        "birth_place = '\\(age.*\\n(.*)'\n",
        "matches_birth_place = re.findall(birth_place, text)\n",
        "matches_birth_place\n",
        "\n",
        "# Print the extracted information\n",
        "print('age: ', matches_age)\n",
        "print('full_name: ', matches_full_name)\n",
        "print('birth_date: ', matches_birth_date)\n",
        "print('birth_place: ', matches_birth_place)"
      ]
    }
  ],
  "metadata": {
    "kernelspec": {
      "display_name": "Python 3 (ipykernel)",
      "language": "python",
      "name": "python3"
    },
    "language_info": {
      "codemirror_mode": {
        "name": "ipython",
        "version": 3
      },
      "file_extension": ".py",
      "mimetype": "text/x-python",
      "name": "python",
      "nbconvert_exporter": "python",
      "pygments_lexer": "ipython3",
      "version": "3.11.5"
    },
    "colab": {
      "provenance": []
    }
  },
  "nbformat": 4,
  "nbformat_minor": 0
}